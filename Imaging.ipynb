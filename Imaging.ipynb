{
 "cells": [
  {
   "cell_type": "code",
   "execution_count": 1,
   "id": "9b6c156e-e4f7-40b5-b9d5-844dfffe88a1",
   "metadata": {},
   "outputs": [
    {
     "name": "stdout",
     "output_type": "stream",
     "text": [
      "WARNING:tensorflow:From C:\\Users\\Danish Amin\\AppData\\Local\\Temp\\ipykernel_18148\\1612525535.py:15: The name tf.enable_eager_execution is deprecated. Please use tf.compat.v1.enable_eager_execution instead.\n",
      "\n"
     ]
    },
    {
     "name": "stderr",
     "output_type": "stream",
     "text": [
      "2022-06-07 16:14:01,872 - From C:\\Users\\Danish Amin\\AppData\\Local\\Temp\\ipykernel_18148\\1612525535.py:15: The name tf.enable_eager_execution is deprecated. Please use tf.compat.v1.enable_eager_execution instead.\n",
      "\n"
     ]
    },
    {
     "name": "stdout",
     "output_type": "stream",
     "text": [
      "All import success\n"
     ]
    }
   ],
   "source": [
    "# imports\n",
    "import os, sys\n",
    "import tensorflow as tf\n",
    "from tqdm import tqdm_notebook as tqdm\n",
    "import numpy as np\n",
    "import matplotlib.pyplot as plt\n",
    "from IPython.display import clear_output, display\n",
    "from time import sleep\n",
    "import training\n",
    "from trainingV3 import get_rays, render#, LEVEL1, LEVEL2\n",
    "\n",
    "# training.LEVEL1 = 10\n",
    "# training.LEVEL2 = 6\n",
    "\n",
    "tf.enable_eager_execution()\n",
    "print(\"All import success\")"
   ]
  },
  {
   "cell_type": "code",
   "execution_count": 2,
   "id": "d1d85818-c5e3-40ee-aaef-7ff23ec4edcf",
   "metadata": {},
   "outputs": [],
   "source": [
    "# load model\n",
    "model = tf.keras.models.load_model(\"models/model_L10_L0_H_S64_29p23.h5\", custom_objects={'Functional':tf.keras.models.Model})"
   ]
  },
  {
   "cell_type": "code",
   "execution_count": 3,
   "id": "eeef9d66-4582-4e26-b311-2b99f52ee87c",
   "metadata": {},
   "outputs": [
    {
     "name": "stderr",
     "output_type": "stream",
     "text": [
      "2022-06-07 16:14:03,946 - data loaded successfully from data\\tiny_nerf_data.npz\n"
     ]
    }
   ],
   "source": [
    "# define any globals\n",
    "from load import load_data\n",
    "H, W = 100, 100\n",
    "focal = tf.constant(load_data()['focal'], dtype=tf.float32)\n",
    "samples = 64"
   ]
  },
  {
   "cell_type": "code",
   "execution_count": 4,
   "id": "54afdf1c-52c8-4cd6-b653-b6f9357bf9b3",
   "metadata": {},
   "outputs": [
    {
     "name": "stdout",
     "output_type": "stream",
     "text": [
      "[=================================================>] 100% completed .\n"
     ]
    }
   ],
   "source": [
    "import time\n",
    "\n",
    "def progress(x, total, string=\"\", m=50.0):\n",
    "    clear_output(wait=True)\n",
    "    n = (m*x)/total\n",
    "    complete = '='\n",
    "    incomplete = '-'\n",
    "    print(f\"[{complete*int(n)}>{incomplete*int(m-int(n)-1)}] {1+int(100*(n)/m)}% completed {string}.\")\n",
    "    \n",
    "for i in range(100):\n",
    "    progress(i, 100)"
   ]
  },
  {
   "cell_type": "code",
   "execution_count": 5,
   "id": "3cf51cb9-69c1-492c-a91e-4f40d5763966",
   "metadata": {},
   "outputs": [],
   "source": [
    "%matplotlib inline\n",
    "from ipywidgets import interactive, widgets\n",
    "from IPython.display import clear_output, display\n",
    "from time import sleep\n",
    "from math import ceil\n",
    "\n",
    "\n",
    "trans_t = lambda t : tf.convert_to_tensor([\n",
    "    [1,0,0,0],\n",
    "    [0,1,0,0],\n",
    "    [0,0,1,t],\n",
    "    [0,0,0,1],\n",
    "], dtype=tf.float32)\n",
    "\n",
    "rot_phi = lambda phi : tf.convert_to_tensor([\n",
    "    [1,0,0,0],\n",
    "    [0,tf.cos(phi),-tf.sin(phi),0],\n",
    "    [0,tf.sin(phi), tf.cos(phi),0],\n",
    "    [0,0,0,1],\n",
    "], dtype=tf.float32)\n",
    "\n",
    "rot_theta = lambda th : tf.convert_to_tensor([\n",
    "    [tf.cos(th),0,-tf.sin(th),0],\n",
    "    [0,1,0,0],\n",
    "    [tf.sin(th),0, tf.cos(th),0],\n",
    "    [0,0,0,1],\n",
    "], dtype=tf.float32)\n",
    "\n",
    "\n",
    "def pose_spherical(theta, phi, radius):\n",
    "    c2w = trans_t(radius)\n",
    "    c2w = rot_phi(phi/180.*np.pi) @ c2w\n",
    "    c2w = rot_theta(theta/180.*np.pi) @ c2w\n",
    "    c2w = np.array([[-1,0,0,0],[0,0,1,0],[0,1,0,0],[0,0,0,1]]) @ c2w\n",
    "    return c2w\n",
    "\n",
    "\n",
    "def f(**kwargs):\n",
    "    c2w = pose_spherical(**kwargs)\n",
    "    rays_o, rays_d = get_rays(H, W, focal, c2w[:3,:4])\n",
    "    rgb = tf.reshape(render(model, rays_o, rays_d, 2., 6., samples=samples, level1=10, level2=0), (H, W, 3))\n",
    "    # rgb = render(model, rays_o, rays_d, near=2., far=6., samples=samples)\n",
    "    img = np.clip(rgb,0,1)\n",
    "    \n",
    "    plt.figure(2, figsize=(20,6))\n",
    "    plt.imshow(img)\n",
    "    plt.show()\n",
    "    \n",
    "\n",
    "sldr = lambda v, mi, ma: widgets.FloatSlider(\n",
    "    value=v,\n",
    "    min=mi,\n",
    "    max=ma,\n",
    "    step=.01,\n",
    ")\n",
    "\n",
    "names = [\n",
    "    ['theta', [100., 0., 360]],\n",
    "    ['phi', [-30., -90, 0]],\n",
    "    ['radius', [4., 3., 5.]],\n",
    "]\n",
    "\n",
    "# interactive_plot = interactive(f, **{s[0] : sldr(*s[1]) for s in names})\n",
    "# output = interactive_plot.children[-1]\n",
    "# output.layout.height = '350px'\n",
    "# interactive_plot"
   ]
  },
  {
   "cell_type": "code",
   "execution_count": null,
   "id": "1eb77215-bfdc-4d20-8072-e1fa194d4e94",
   "metadata": {},
   "outputs": [
    {
     "name": "stdout",
     "output_type": "stream",
     "text": [
      "[====>---------------------------------------------] 9% completed render: 1.5649864, save: 3.5691397.\n"
     ]
    }
   ],
   "source": [
    "from mytiming import Timings\n",
    "frames = np.zeros((120, H, W, 3))\n",
    "frames = []\n",
    "\n",
    "d = Timings()\n",
    "for i, th in enumerate(np.linspace(0., 360., 120, endpoint=False)):\n",
    "    c2w = pose_spherical(th, -30., 4.)\n",
    "    rays_o, rays_d = get_rays(H, W, focal, c2w[:3,:4])\n",
    "    d.get('render')\n",
    "    rgb  = render(model, rays_o, rays_d, 2., 6., samples=samples, level1=10, level2=0)\n",
    "    # rgb = render(model, rays_o, rays_d, near=2., far=6., samples=samples)\n",
    "    d.get('render')\n",
    "    d.get('save')\n",
    "    frames.append((255*np.clip(rgb,0,1)).astype(np.uint8))\n",
    "    d.get('save')\n",
    "    progress(th, 360, string=\n",
    "        f\"render: {(d.d['render'][-1] - d.d['render'][-2])/1e9}, save: {(d.d['save'][-1] - d.d['save'][-2])/1e9}\")\n"
   ]
  },
  {
   "cell_type": "code",
   "execution_count": null,
   "id": "2d9cd4d5-9b45-4dc4-9750-e56f56e4e319",
   "metadata": {},
   "outputs": [],
   "source": [
    "import imageio\n",
    "f = 'video_L10_L0_H_S64_29p23.mp4'\n",
    "imageio.mimwrite(f, frames, fps=30, quality=7)\n"
   ]
  },
  {
   "cell_type": "code",
   "execution_count": null,
   "id": "2fbdb46d-e475-49f6-b271-91d323006158",
   "metadata": {},
   "outputs": [],
   "source": [
    "from IPython.display import HTML\n",
    "from base64 import b64encode\n",
    "\n",
    "f = 'video_L10_L0_H_S64_29p23.mp4'\n",
    "\n",
    "mp4 = open(f,'rb').read()\n",
    "data_url = \"data:video/mp4;base64,\" + b64encode(mp4).decode()\n",
    "HTML(\"\"\"\n",
    "<video width=400 controls autoplay loop>\n",
    "      <source src=\"%s\" type=\"video/mp4\">\n",
    "</video>\n",
    "\"\"\" % data_url)"
   ]
  },
  {
   "cell_type": "code",
   "execution_count": null,
   "id": "726c6f2e-14bc-42de-b5c6-537750b8f433",
   "metadata": {},
   "outputs": [],
   "source": [
    "c2w = pose_spherical(th, -30., 4.)\n",
    "rays_o, rays_d = get_rays(H, W, focal, c2w[:3,:4])\n",
    "d.get('render')\n",
    "# rgb  = render(model, rays_o, rays_d, 2., 6., samples=samples, level1=10, level2=6)\n",
    "rgb = render(model, rays_o, rays_d, near=2., far=6., samples=samples)\n",
    "\n",
    "diff = 5*tf.concat([tf.reduce_sum(tf.abs(rgb - rgbc), axis=-1)[..., None]]*3, axis=-1)\n",
    "plt.imshow(np.hstack([rgbc, rgb, diff]))"
   ]
  },
  {
   "cell_type": "code",
   "execution_count": null,
   "id": "ad3cb9f0-3006-4a4c-9b69-08769d8b1027",
   "metadata": {},
   "outputs": [],
   "source": []
  },
  {
   "cell_type": "code",
   "execution_count": null,
   "id": "6e346232-8e99-47ca-8f45-317e9ad3e167",
   "metadata": {},
   "outputs": [],
   "source": []
  }
 ],
 "metadata": {
  "kernelspec": {
   "display_name": "Python 3 (ipykernel)",
   "language": "python",
   "name": "python3"
  },
  "language_info": {
   "codemirror_mode": {
    "name": "ipython",
    "version": 3
   },
   "file_extension": ".py",
   "mimetype": "text/x-python",
   "name": "python",
   "nbconvert_exporter": "python",
   "pygments_lexer": "ipython3",
   "version": "3.7.9"
  }
 },
 "nbformat": 4,
 "nbformat_minor": 5
}
