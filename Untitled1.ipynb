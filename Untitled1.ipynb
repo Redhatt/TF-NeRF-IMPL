{
 "cells": [
  {
   "cell_type": "code",
   "execution_count": 17,
   "id": "7278c592-af33-4e62-9036-861dc9e9914b",
   "metadata": {},
   "outputs": [
    {
     "name": "stdout",
     "output_type": "stream",
     "text": [
      "1.43649e-06 3.775850602799003e-10\n"
     ]
    }
   ],
   "source": [
    "from time import *\n",
    "import numpy as np\n",
    "\n",
    "n = 10**5\n",
    "val = []\n",
    "for i in range(n):\n",
    "    t1 = perf_counter_ns()\n",
    "    # a = (1,)*64\n",
    "    a = [1]*64\n",
    "    t2 = perf_counter_ns() \n",
    "    val.append(t2-t1)\n",
    "\n",
    "val = np.array(val)/1e9\n",
    "print(val.mean(), val.var())    "
   ]
  },
  {
   "cell_type": "code",
   "execution_count": 11,
   "id": "391a7eba-fe05-4291-b5ee-38217978d4e4",
   "metadata": {},
   "outputs": [
    {
     "data": {
      "text/plain": [
       "(1, 1, 1, 1, 1, 1, 1, 1, 1, 1)"
      ]
     },
     "execution_count": 11,
     "metadata": {},
     "output_type": "execute_result"
    }
   ],
   "source": [
    "3.71602e-07 2.1596873535960002e-12\n",
    "1.43649e-06 3.775850602799003e-10"
   ]
  },
  {
   "cell_type": "code",
   "execution_count": 22,
   "id": "1352fbb5-5a10-406f-aa41-89ba0d100136",
   "metadata": {},
   "outputs": [
    {
     "data": {
      "text/plain": [
       "'array([0.61468315, 0.68013096, 0.75735732, 0.25983897, 0.49518881,\\n       0.70821505, 0.10694448, 0.74510329, 0.53727975, 0.33351028])'"
      ]
     },
     "execution_count": 22,
     "metadata": {},
     "output_type": "execute_result"
    }
   ],
   "source": [
    "a = np.random.rand(10)"
   ]
  },
  {
   "cell_type": "code",
   "execution_count": null,
   "id": "a01d4ab8-8c59-4a24-8564-58f58fccd23e",
   "metadata": {},
   "outputs": [],
   "source": []
  }
 ],
 "metadata": {
  "kernelspec": {
   "display_name": "Python 3 (ipykernel)",
   "language": "python",
   "name": "python3"
  },
  "language_info": {
   "codemirror_mode": {
    "name": "ipython",
    "version": 3
   },
   "file_extension": ".py",
   "mimetype": "text/x-python",
   "name": "python",
   "nbconvert_exporter": "python",
   "pygments_lexer": "ipython3",
   "version": "3.7.9"
  }
 },
 "nbformat": 4,
 "nbformat_minor": 5
}
